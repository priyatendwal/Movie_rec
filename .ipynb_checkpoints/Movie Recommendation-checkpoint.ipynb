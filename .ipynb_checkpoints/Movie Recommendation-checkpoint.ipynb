{
 "cells": [
  {
   "cell_type": "code",
   "execution_count": 1,
   "metadata": {},
   "outputs": [
    {
     "ename": "ModuleNotFoundError",
     "evalue": "No module named 'pandas'",
     "output_type": "error",
     "traceback": [
      "\u001b[1;31m---------------------------------------------------------------------------\u001b[0m",
      "\u001b[1;31mModuleNotFoundError\u001b[0m                       Traceback (most recent call last)",
      "\u001b[1;32m<ipython-input-1-e9e2bcba5d4a>\u001b[0m in \u001b[0;36m<module>\u001b[1;34m\u001b[0m\n\u001b[0;32m      1\u001b[0m \u001b[1;31m#All the header files required for the code\u001b[0m\u001b[1;33m\u001b[0m\u001b[1;33m\u001b[0m\u001b[1;33m\u001b[0m\u001b[0m\n\u001b[0;32m      2\u001b[0m \u001b[1;32mimport\u001b[0m \u001b[0mnumpy\u001b[0m \u001b[1;32mas\u001b[0m \u001b[0mnp\u001b[0m\u001b[1;33m\u001b[0m\u001b[1;33m\u001b[0m\u001b[0m\n\u001b[1;32m----> 3\u001b[1;33m \u001b[1;32mimport\u001b[0m \u001b[0mpandas\u001b[0m \u001b[1;32mas\u001b[0m \u001b[0mpd\u001b[0m\u001b[1;33m\u001b[0m\u001b[1;33m\u001b[0m\u001b[0m\n\u001b[0m\u001b[0;32m      4\u001b[0m \u001b[1;32mfrom\u001b[0m \u001b[0mfactor_analyzer\u001b[0m \u001b[1;32mimport\u001b[0m \u001b[0mFactorAnalyzer\u001b[0m\u001b[1;33m\u001b[0m\u001b[1;33m\u001b[0m\u001b[0m\n\u001b[0;32m      5\u001b[0m \u001b[1;32mimport\u001b[0m \u001b[0mmatplotlib\u001b[0m\u001b[1;33m.\u001b[0m\u001b[0mpyplot\u001b[0m \u001b[1;32mas\u001b[0m \u001b[0mplt\u001b[0m\u001b[1;33m\u001b[0m\u001b[1;33m\u001b[0m\u001b[0m\n",
      "\u001b[1;31mModuleNotFoundError\u001b[0m: No module named 'pandas'"
     ]
    }
   ],
   "source": [
    "#All the header files required for the code\n",
    "import numpy as np\n",
    "import pandas as pd\n",
    "from factor_analyzer import FactorAnalyzer\n",
    "import matplotlib.pyplot as plt\n",
    "from sklearn.cluster import KMeans\n",
    "from sklearn import metrics\n",
    "import random"
   ]
  },
  {
   "cell_type": "code",
   "execution_count": null,
   "metadata": {},
   "outputs": [],
   "source": [
    "#Importing both the file using pandas \n",
    "data1 = pd.read_csv('movies data.csv')\n",
    "data2 = pd.read_csv('ratings data.csv')"
   ]
  },
  {
   "cell_type": "code",
   "execution_count": null,
   "metadata": {},
   "outputs": [],
   "source": [
    "#Deleting unnecessary columns\n",
    "data1 = data1.drop('Unnamed: 0',axis = 1)\n",
    "data2 = data2.drop(['Unnamed: 0','Timestamp'],axis = 1)"
   ]
  },
  {
   "cell_type": "code",
   "execution_count": null,
   "metadata": {},
   "outputs": [],
   "source": [
    "data1.head()"
   ]
  },
  {
   "cell_type": "code",
   "execution_count": null,
   "metadata": {},
   "outputs": [],
   "source": [
    "data2.head()"
   ]
  },
  {
   "cell_type": "code",
   "execution_count": null,
   "metadata": {},
   "outputs": [],
   "source": [
    "#Merging both the dataframes\n",
    "data = pd.merge(data2 , data1 , how='outer', on='MovieID')"
   ]
  },
  {
   "cell_type": "code",
   "execution_count": null,
   "metadata": {},
   "outputs": [],
   "source": [
    "data.head()"
   ]
  },
  {
   "cell_type": "code",
   "execution_count": null,
   "metadata": {
    "scrolled": true
   },
   "outputs": [],
   "source": [
    "# Data Processing\n",
    "# Converting Genres into different columns \n",
    "# Here we just create columns and put there initial value as 0\n",
    "x = data.Genres\n",
    "a = list()\n",
    "for i in x:\n",
    "    abc = i\n",
    "    a.append(abc.split('|'))\n",
    "a = pd.DataFrame(a)   \n",
    "b = a[0].unique()\n",
    "for i in b:\n",
    "    data[i] = 0\n",
    "data.head(2)"
   ]
  },
  {
   "cell_type": "code",
   "execution_count": null,
   "metadata": {},
   "outputs": [],
   "source": [
    "# we assign 1 to all the columns which are present in the Genres\n",
    "for i in b:\n",
    "    data.loc[data['Genres'].str.contains(i), i] = 1"
   ]
  },
  {
   "cell_type": "code",
   "execution_count": null,
   "metadata": {},
   "outputs": [],
   "source": [
    "data.head(2)"
   ]
  },
  {
   "cell_type": "code",
   "execution_count": null,
   "metadata": {},
   "outputs": [],
   "source": [
    "# Now there is no use of genre \n",
    "# Since we have movie id so there is no need for movie names as well\n",
    "data = data.drop(['Genres','Title'],axis =1)\n",
    "data.head()"
   ]
  },
  {
   "cell_type": "code",
   "execution_count": null,
   "metadata": {},
   "outputs": [],
   "source": [
    "data.columns"
   ]
  },
  {
   "cell_type": "code",
   "execution_count": null,
   "metadata": {},
   "outputs": [],
   "source": [
    "# Because of merging some null values are created\n",
    "data.isnull().sum()"
   ]
  },
  {
   "cell_type": "code",
   "execution_count": null,
   "metadata": {},
   "outputs": [],
   "source": [
    "#WE simply drop the null values coz the are not treatable\n",
    "data.dropna(inplace= True )"
   ]
  },
  {
   "cell_type": "code",
   "execution_count": null,
   "metadata": {},
   "outputs": [],
   "source": [
    "data.isnull().sum()"
   ]
  },
  {
   "cell_type": "code",
   "execution_count": null,
   "metadata": {},
   "outputs": [],
   "source": [
    "#By different meathods I found 8 cluster are better \n",
    "kmeanModel = KMeans(n_clusters=8)\n",
    "kmeanModel.fit(data)"
   ]
  },
  {
   "cell_type": "code",
   "execution_count": null,
   "metadata": {},
   "outputs": [],
   "source": [
    "# Creating an extra column in data for storing the cluster values\n",
    "data['Cluster'] = kmeanModel.labels_\n",
    "data['Cluster'].sample(n=10)"
   ]
  },
  {
   "cell_type": "code",
   "execution_count": null,
   "metadata": {},
   "outputs": [],
   "source": [
    "data['Cluster'].value_counts()"
   ]
  },
  {
   "cell_type": "code",
   "execution_count": null,
   "metadata": {},
   "outputs": [],
   "source": [
    "data.head()"
   ]
  },
  {
   "cell_type": "code",
   "execution_count": null,
   "metadata": {},
   "outputs": [],
   "source": [
    "# When we merge the dataframe for a single movie multiple rows were created so a single movie is allotted\n",
    "# to many clusters so here we allot a single cluster to a movie \n",
    "# the Cluster which occurs maximum number of times is alloted to the movie  \n",
    "e = []\n",
    "def fi(group):\n",
    "    a = pd.DataFrame(group)\n",
    "    b = pd.DataFrame(a['Cluster'].value_counts())\n",
    "    d = a.index \n",
    "    c = [a['MovieID'][d[0]],int(b.idxmax())]\n",
    "    e.append(c)\n",
    "    "
   ]
  },
  {
   "cell_type": "code",
   "execution_count": null,
   "metadata": {},
   "outputs": [],
   "source": [
    "data.groupby(\"MovieID\").apply(lambda x: fi(x))"
   ]
  },
  {
   "cell_type": "code",
   "execution_count": null,
   "metadata": {},
   "outputs": [],
   "source": [
    "e = pd.DataFrame(e)"
   ]
  },
  {
   "cell_type": "code",
   "execution_count": null,
   "metadata": {},
   "outputs": [],
   "source": [
    "e.head()"
   ]
  },
  {
   "cell_type": "code",
   "execution_count": null,
   "metadata": {},
   "outputs": [],
   "source": [
    "# I Dont know why always the column name shift according to its will :(\n",
    "# Here just the column names are swapped\n",
    "e.rename(columns = {0:'MovieID',1:'Cluster'},inplace=True)\n",
    "e.drop_duplicates(inplace=True)"
   ]
  },
  {
   "cell_type": "code",
   "execution_count": null,
   "metadata": {},
   "outputs": [],
   "source": [
    "e.head(10)"
   ]
  },
  {
   "cell_type": "code",
   "execution_count": null,
   "metadata": {},
   "outputs": [],
   "source": [
    "data1 = pd.read_csv('movies data.csv')\n",
    "new_data = pd.merge(e , data1 , how='outer', on='MovieID')"
   ]
  },
  {
   "cell_type": "code",
   "execution_count": null,
   "metadata": {},
   "outputs": [],
   "source": [
    "# These were the movies we deleted while merging the file  \n",
    "new_data.isnull().sum()"
   ]
  },
  {
   "cell_type": "code",
   "execution_count": null,
   "metadata": {},
   "outputs": [],
   "source": [
    "# We can delete the movies but I just label them randomly :)\n",
    "new_data.fillna(random.randint(0,8),inplace=True)"
   ]
  },
  {
   "cell_type": "code",
   "execution_count": null,
   "metadata": {},
   "outputs": [],
   "source": [
    "new_data.isnull().sum()"
   ]
  },
  {
   "cell_type": "code",
   "execution_count": null,
   "metadata": {},
   "outputs": [],
   "source": [
    "#This function select the cluster for a user according the the user choice\n",
    "def select_c():\n",
    "    global l\n",
    "    print('Select The Movies Id you would like to watch:')\n",
    "    l=[]\n",
    "    for i in range(15):\n",
    "        l.append(random.randint(0,3883))\n",
    "    for i in l:\n",
    "        print(new_data['MovieID'][i] , new_data['Title'][i],sep='--->')\n",
    "    print('--------------------------------------------------------------------')\n",
    "    l = int(input())\n",
    "    l = new_data['Cluster'][new_data.MovieID == l]"
   ]
  },
  {
   "cell_type": "code",
   "execution_count": null,
   "metadata": {},
   "outputs": [],
   "source": [
    "# This is the main function which recommend you movies\n",
    "def main():\n",
    "    ans = False\n",
    "    while not ans:\n",
    "        select_c()\n",
    "        print(new_data['Title'][new_data.Cluster == int(l)].sample(n=10))\n",
    "        print('--------------------------------------------------------------------')\n",
    "        print('Do you like these movies(y/n)')\n",
    "        abc = input()\n",
    "        while ((abc =='y') or (abc == 'Y')):          \n",
    "            print(new_data['Title'][new_data.Cluster == int(l)].sample(n=10))\n",
    "            print('--------------------------------------------------------------------')\n",
    "            print('Want more!!!!(y/n)')\n",
    "            abc = input()\n",
    "            if ((abc =='N') or (abc == 'n')):\n",
    "                ans =True"
   ]
  },
  {
   "cell_type": "code",
   "execution_count": null,
   "metadata": {},
   "outputs": [],
   "source": [
    "main()"
   ]
  },
  {
   "cell_type": "code",
   "execution_count": null,
   "metadata": {},
   "outputs": [],
   "source": []
  }
 ],
 "metadata": {
  "kernelspec": {
   "display_name": "Python 3",
   "language": "python",
   "name": "python3"
  },
  "language_info": {
   "codemirror_mode": {
    "name": "ipython",
    "version": 3
   },
   "file_extension": ".py",
   "mimetype": "text/x-python",
   "name": "python",
   "nbconvert_exporter": "python",
   "pygments_lexer": "ipython3",
   "version": "3.8.3"
  }
 },
 "nbformat": 4,
 "nbformat_minor": 2
}
